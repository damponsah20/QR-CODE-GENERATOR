{
 "cells": [
  {
   "cell_type": "code",
   "execution_count": 2,
   "id": "d242b7bb-c103-4e8f-a2cd-8dd2c152b9a9",
   "metadata": {},
   "outputs": [],
   "source": [
    "import qrcode\n",
    "\n",
    "# # Text to be stored in the QR code\n",
    "# text =\"\"\"CHARACTERISTICS AND LONG-TERM TRENDS OF HEATWAVES OVER GHANA(M23)\n",
    "# REMAINING REFERENCES\n",
    "# [3]. Lobell, D. B., Schlenker, W., & Costa-Roberts, J. (2011). Climate Trends and Global Crop Production Since 1980. Science, 333(6042), 616-620.\n",
    "# [4]. Addo-Kumi, S., Fosu, J. A., Kemausuor, F., & Anornu, G. (2019). Climate change adaptation and mitigation options for heat stress in Accra, Ghana. Journal of Environmental and Public Health, 2019\n",
    "# [5]. Agyeman, K. A. Nsiah, G., Iddrisu, M. & Asante, Y. (2020). Heatwave impacts and coping strategies: Voices from selected communities in Ashanti Region, Ghana. Weather and Climate Extremes, 31.\n",
    "# [6]. Gbetibouo, G. A., Iddrisu, A. S., & Asare-Kyei, D. (2021). An assessment of vulnerability, adaptation, and resilience for climate change-induced heatwaves in Ghana. Climate, 9(1), 3.\"\"\"\n",
    "\n",
    "# # Create a QR code object\n",
    "# qr = qrcode.QRCode(\n",
    "#     version=1,  # controls the size of the QR Code\n",
    "#     error_correction=qrcode.constants.ERROR_CORRECT_L,\n",
    "#     box_size=10,  # size of each box in the QR code\n",
    "#     border=4,  # thickness of the border\n",
    "# )\n",
    "\n",
    "# # Add text data to the QR code\n",
    "# qr.add_data(text)\n",
    "# qr.make(fit=True)\n",
    "\n",
    "# # Create an image from the QR code instance\n",
    "# img = qr.make_image(fill_color=\"black\", back_color=\"white\")\n",
    "\n",
    "# # Save the image to a file\n",
    "# img.save(\"qrcode.png\")\n"
   ]
  },
  {
   "cell_type": "code",
   "execution_count": 5,
   "id": "b4eb45a3-5930-4a60-b62b-88669dd95dcf",
   "metadata": {},
   "outputs": [],
   "source": [
    "img =  qrcode.make( 'CHARACTERISTICS ')"
   ]
  },
  {
   "cell_type": "code",
   "execution_count": 6,
   "id": "2802a3a4-6812-4111-bdba-4f704eb2b7ce",
   "metadata": {},
   "outputs": [],
   "source": [
    "img.save('mycode.png')"
   ]
  },
  {
   "cell_type": "code",
   "execution_count": null,
   "id": "922b297c-6280-41ca-b484-94ac24a8e10e",
   "metadata": {},
   "outputs": [],
   "source": []
  }
 ],
 "metadata": {
  "kernelspec": {
   "display_name": "Python 3 (ipykernel)",
   "language": "python",
   "name": "python3"
  },
  "language_info": {
   "codemirror_mode": {
    "name": "ipython",
    "version": 3
   },
   "file_extension": ".py",
   "mimetype": "text/x-python",
   "name": "python",
   "nbconvert_exporter": "python",
   "pygments_lexer": "ipython3",
   "version": "3.9.18"
  }
 },
 "nbformat": 4,
 "nbformat_minor": 5
}
